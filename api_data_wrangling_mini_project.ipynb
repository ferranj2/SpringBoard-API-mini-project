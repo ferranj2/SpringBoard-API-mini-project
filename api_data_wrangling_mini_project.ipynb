{
 "cells": [
  {
   "cell_type": "markdown",
   "metadata": {},
   "source": [
    "This exercise will require you to pull some data from the Qunadl API. Qaundl is currently the most widely used aggregator of financial market data."
   ]
  },
  {
   "cell_type": "markdown",
   "metadata": {},
   "source": [
    "As a first step, you will need to register a free account on the http://www.quandl.com website."
   ]
  },
  {
   "cell_type": "markdown",
   "metadata": {},
   "source": [
    "After you register, you will be provided with a unique API key, that you should store:"
   ]
  },
  {
   "cell_type": "code",
   "execution_count": 1,
   "metadata": {},
   "outputs": [],
   "source": [
    "# Store the API key as a string - according to PEP8, constants are always named in all upper case\n",
    "API_KEY = "
   ]
  },
  {
   "cell_type": "markdown",
   "metadata": {},
   "source": [
    "Qaundl has a large number of data sources, but, unfortunately, most of them require a Premium subscription. Still, there are also a good number of free datasets."
   ]
  },
  {
   "cell_type": "markdown",
   "metadata": {},
   "source": [
    "For this mini project, we will focus on equities data from the Frankfurt Stock Exhange (FSE), which is available for free. We'll try and analyze the stock prices of a company called Carl Zeiss Meditec, which manufactures tools for eye examinations, as well as medical lasers for laser eye surgery: https://www.zeiss.com/meditec/int/home.html. The company is listed under the stock ticker AFX_X."
   ]
  },
  {
   "cell_type": "markdown",
   "metadata": {},
   "source": [
    "You can find the detailed Quandl API instructions here: https://docs.quandl.com/docs/time-series"
   ]
  },
  {
   "cell_type": "markdown",
   "metadata": {},
   "source": [
    "While there is a dedicated Python package for connecting to the Quandl API, we would prefer that you use the *requests* package, which can be easily downloaded using *pip* or *conda*. You can find the documentation for the package here: http://docs.python-requests.org/en/master/ "
   ]
  },
  {
   "cell_type": "markdown",
   "metadata": {},
   "source": [
    "Finally, apart from the *requests* package, you are encouraged to not use any third party Python packages, such as *pandas*, and instead focus on what's available in the Python Standard Library (the *collections* module might come in handy: https://pymotw.com/3/collections/ ).\n",
    "Also, since you won't have access to DataFrames, you are encouraged to us Python's native data structures - preferably dictionaries, though some questions can also be answered using lists.\n",
    "You can read more on these data structures here: https://docs.python.org/3/tutorial/datastructures.html"
   ]
  },
  {
   "cell_type": "markdown",
   "metadata": {},
   "source": [
    "Keep in mind that the JSON responses you will be getting from the API map almost one-to-one to Python's dictionaries. Unfortunately, they can be very nested, so make sure you read up on indexing dictionaries in the documentation provided above."
   ]
  },
  {
   "cell_type": "code",
   "execution_count": 34,
   "metadata": {},
   "outputs": [],
   "source": [
    "# First, import the relevant modules\n",
    "import requests\n",
    "import json\n",
    "from math import floor"
   ]
  },
  {
   "cell_type": "code",
   "execution_count": 3,
   "metadata": {},
   "outputs": [],
   "source": [
    "# Now, call the Quandl API and pull out a small sample of the data (only one day) to get a glimpse\n",
    "# into the JSON structure that will be returned\n",
    "url = \"https://www.quandl.com/api/v3/datasets/FSE/AFX_X.json?&start_date=2017-01-01&end_date=2017-12-31&collapse=daily&transform=rdiff&api_key=\" + API_KEY\n",
    "res = requests.get(url)"
   ]
  },
  {
   "cell_type": "code",
   "execution_count": 35,
   "metadata": {},
   "outputs": [
    {
     "data": {
      "text/plain": [
       "4"
      ]
     },
     "execution_count": 35,
     "metadata": {},
     "output_type": "execute_result"
    }
   ],
   "source": [
    "# Inspect the JSON structure of the object you created, and take note of how nested it is,\n",
    "# as well as the overall structure\n",
    "data = res.json() #Converts json input to dictionary\n",
    "print(type(data)) #Outputs type \"dict\" to prove successful conversion\n",
    "print(data['dataset']['column_names']) #This is to know how to index nested dataset."
   ]
  },
  {
   "cell_type": "markdown",
   "metadata": {},
   "source": [
    "These are your tasks for this mini project:\n",
    "\n",
    "1. Collect data from the Franfurt Stock Exchange, for the ticker AFX_X, for the whole year 2017 (keep in mind that the date format is YYYY-MM-DD).\n",
    "2. Convert the returned JSON object into a Python dictionary.\n",
    "3. Calculate what the highest and lowest opening prices were for the stock in this period.\n",
    "4. What was the largest change in any one day (based on High and Low price)?\n",
    "5. What was the largest change between any two days (based on Closing Price)?\n",
    "6. What was the average daily trading volume during this year?\n",
    "7. (Optional) What was the median trading volume during this year. (Note: you may need to implement your own function for calculating the median.)"
   ]
  },
  {
   "cell_type": "code",
   "execution_count": 43,
   "metadata": {},
   "outputs": [
    {
     "name": "stdout",
     "output_type": "stream",
     "text": [
      "Highest Open price of 2017:  0.041013824884793\n",
      "Lowest Open price of 2017:  -0.084928229665072\n",
      "Greatest Daily Change of 2017 in 1 day:  0.04014597697399\n",
      "Average Trading Volume:  7.33419175718327\n",
      "Largest delta_Close of 2017:  0.097627197430696\n",
      "Median Trading Volume of 2017:  0.286121024295805\n"
     ]
    }
   ],
   "source": [
    "#Define storage variables for the quantities wanted:\n",
    "delta_max = 0\n",
    "delta_close_max = 0\n",
    "open_max = 0\n",
    "open_min = 0\n",
    "trade_vol_running = 0\n",
    "delta_close_max = 0\n",
    "\n",
    "#Search for highest and lowest open prices, average trade volume, and daily price chance based on High and Low Prices:\n",
    "#Initialize a counter variable\n",
    "k = 0\n",
    "for day in data['dataset']['data']:\n",
    "    k = k+1 #Update counter\n",
    "    \n",
    "    #Search Logic: Neglect entries that have \"None\" type for Open price.\n",
    "    if type(day[1]) != type(None):\n",
    "        if day[1] > open_max:\n",
    "            open_max = day[1]\n",
    "        if day[1] < open_min:\n",
    "            open_min = day[1]\n",
    "        delta = abs(day[2] - day[3])\n",
    "        if delta > delta_max:\n",
    "            delta_max = delta\n",
    "            \n",
    "    #Running total for the trade volume variable:\n",
    "    trade_vol_running += day[6]  \n",
    "    \n",
    "#Compute the average trade volume\n",
    "trade_vol_avg = trade_vol_running/k\n",
    "\n",
    "#Determining the median Trade Volume:\n",
    "index = floor(k/2)\n",
    "#If the data-set used an even number of observations for trade volume:\n",
    "if k % 2 == 0:\n",
    "    #The median is the average of the two middle-most observations\n",
    "    median_TV = (data['dataset']['data'][index][6] + data['dataset']['data'][index+1][6])/2\n",
    "else:\n",
    "    #Tdata-set used an odd number of observations the median is the actual middle value.\n",
    "    median_TV  = data['dataset']['data'][index+1][6]\n",
    "\n",
    "#Search for the largest change in closing value between ANY two days:\n",
    "#Compares the difference in Close price between ANY two days regardless of order in the imported dataset.\n",
    "day_current = 0\n",
    "day_next = 0\n",
    "k = 0\n",
    "points = len(data['dataset']['data'])\n",
    "\n",
    "for i in range(points):\n",
    "    day_current = data['dataset']['data'][i][4]\n",
    "    k = k+1\n",
    "    for j in range(points-k):\n",
    "        day_next = data['dataset']['data'][j+k][4]\n",
    "        delta_close = abs(day_next - day_current)\n",
    "        if delta_close > delta_close_max:\n",
    "            delta_close_max = delta_close\n",
    "\n",
    "#Output Results of search:\n",
    "print('Highest Open price of 2017: ',open_max)\n",
    "print('Lowest Open price of 2017: ',open_min)\n",
    "print('Greatest Daily Change of 2017 in 1 day: ',delta_max)\n",
    "print('Average Trading Volume: ',trade_vol_avg)\n",
    "print('Largest delta_Close of 2017: ',delta_close_max)\n",
    "print('Median Trading Volume of 2017: ',median_TV)"
   ]
  }
 ],
 "metadata": {
  "kernelspec": {
   "display_name": "Python 3",
   "language": "python",
   "name": "python3"
  },
  "language_info": {
   "codemirror_mode": {
    "name": "ipython",
    "version": 3
   },
   "file_extension": ".py",
   "mimetype": "text/x-python",
   "name": "python",
   "nbconvert_exporter": "python",
   "pygments_lexer": "ipython3",
   "version": "3.7.6"
  }
 },
 "nbformat": 4,
 "nbformat_minor": 2
}
